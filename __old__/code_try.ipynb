{
 "cells": [
  {
   "cell_type": "code",
   "execution_count": 2,
   "metadata": {},
   "outputs": [],
   "source": [
    "# Code for ETL operations on Bank data\n",
    "# Importing the required libraries\n",
    "import requests                     #La bibliothèque utilisée pour accéder aux informations à partir de l’URL.\n",
    "from bs4 import BeautifulSoup       # La bibliothèque contenant la fonction utilisée pour le webscraping.BeautifulSoup\n",
    "import pandas as pd                 # La bibliothèque utilisée pour traiter les données extraites, les stocker dans les formats requis et communiquer avec les bases de données.\n",
    "import sqlite3                      # Bibliothèque requise pour créer une connexion au serveur de base de données.\n",
    "import numpy as np                  # La bibliothèque nécessaire à l’opération d’arrondi mathématique telle qu’elle est requise dans les objectifs.\n",
    "from datetime import datetime       # La bibliothèque contenant la fonction utilisée pour extraire l’horodatage à des fins de journalisation.datetime"
   ]
  },
  {
   "cell_type": "code",
   "execution_count": 3,
   "metadata": {},
   "outputs": [],
   "source": [
    "\n",
    "# Preliminaries: Installing libraries and downloading data\n",
    "url = \"https://web.archive.org/web/20230908091635/https://en.wikipedia.org/wiki/List_of_largest_banks\"\n",
    "table_attribs = [\"Name\", \"MC_USD_Billion\"]\n",
    "db_name = 'Banks.db'\n",
    "table_name = 'Largest_banks'\n",
    "csv_path = './Largest_banks_data.csv'"
   ]
  },
  {
   "cell_type": "code",
   "execution_count": 4,
   "metadata": {},
   "outputs": [],
   "source": [
    "page = requests.get(url).text\n",
    "data = BeautifulSoup(page,'html.parser')\n",
    "df = pd.DataFrame(columns=table_attribs)\n",
    "tables = data.find_all('tbody')"
   ]
  },
  {
   "cell_type": "code",
   "execution_count": 5,
   "metadata": {},
   "outputs": [
    {
     "data": {
      "text/plain": [
       "[<td>2\n",
       " </td>,\n",
       " <td><span class=\"flagicon\"><span class=\"mw-image-border\" typeof=\"mw:File\"><a href=\"/web/20230908091635/https://en.wikipedia.org/wiki/United_States\" title=\"United States\"><img alt=\"United States\" class=\"mw-file-element\" data-file-height=\"650\" data-file-width=\"1235\" decoding=\"async\" height=\"12\" src=\"//web.archive.org/web/20230908091635im_/https://upload.wikimedia.org/wikipedia/en/thumb/a/a4/Flag_of_the_United_States.svg/23px-Flag_of_the_United_States.svg.png\" srcset=\"//web.archive.org/web/20230908091635im_/https://upload.wikimedia.org/wikipedia/en/thumb/a/a4/Flag_of_the_United_States.svg/35px-Flag_of_the_United_States.svg.png 1.5x, //web.archive.org/web/20230908091635im_/https://upload.wikimedia.org/wikipedia/en/thumb/a/a4/Flag_of_the_United_States.svg/46px-Flag_of_the_United_States.svg.png 2x\" width=\"23\"/></a></span></span> <a href=\"/web/20230908091635/https://en.wikipedia.org/wiki/Bank_of_America\" title=\"Bank of America\">Bank of America</a>\n",
       " </td>,\n",
       " <td>231.52\n",
       " </td>]"
      ]
     },
     "execution_count": 5,
     "metadata": {},
     "output_type": "execute_result"
    }
   ],
   "source": [
    "rows = tables[0].find_all('tr')\n",
    "row = rows[2]\n",
    "col = row.find_all('td')\n",
    "col"
   ]
  },
  {
   "cell_type": "code",
   "execution_count": null,
   "metadata": {},
   "outputs": [],
   "source": [
    "# Task 2 : Extraction of data\n",
    "def extract(url, table_attribs):\n",
    "    page = requests.get(url).text  #Downloads the content of the webpage from the provided URL\n",
    "    data = BeautifulSoup(page, 'html.parser')  # Uses BeautifulSoup to parse the HTML content of the page\n",
    "    df = pd.DataFrame(columns=table_attribs)\n",
    "    tables = data.find_all('tbody')            # Searches for all tables in the page (specifically, <tbody> tags)\n",
    "    rows = tables[0].find_all('tr')            # Finds all rows (tr tags) in the first table found\n",
    "\n",
    "    for row in rows:\n",
    "        col = row.find_all('td')               # Retrieves all columns (td tags) in the row\n",
    "        if len(col) != 0:                      # Checks if the row contains any columns\n",
    "            if col[1].find('a') is not None:   # Checks if the second column contains an anchor (<a>) tag\n",
    "                l = len(col[1].find_all('a'))  # Gets the total number of links in the second column\n",
    "                # Creates a dictionary with:\n",
    "                # - \"Name\": the text of the last link found in the second column, stripped of any extra spaces\n",
    "                # - \"MC_USD_Billion\": the content of the third column, converted to a float\n",
    "                data_dict = {\n",
    "                    \"Name\": [col[1].find_all('a')[l-1].text.strip()],\n",
    "                    \"MC_USD_Billion\": [float(col[2].contents[0].strip())]\n",
    "                }\n",
    "            df1 = pd.DataFrame(data_dict)\n",
    "            df = pd.concat([df, df1], ignore_index=True)\n",
    "    return df\n",
    "df = extract(url, table_attribs)\n",
    "df"
   ]
  },
  {
   "cell_type": "code",
   "execution_count": 13,
   "metadata": {},
   "outputs": [],
   "source": [
    "df_exchange_rate = pd.read_csv(\"exchange_rate.csv\")                         # Read exchage data\n",
    "exchange_rate = df_exchange_rate.set_index('Currency').to_dict()['Rate']    # Convert to dict\n",
    "\n",
    "df['MC_GBP_Billion'] = [np.round(x*exchange_rate['GBP'],2) for x in df['MC_USD_Billion']]\n",
    "df['MC_EUR_Billion'] = [np.round(x*exchange_rate['EUR'],2) for x in df['MC_USD_Billion']]\n",
    "df['MC_INR_Billion'] = [np.round(x*exchange_rate['INR'],2) for x in df['MC_USD_Billion']]"
   ]
  },
  {
   "cell_type": "code",
   "execution_count": 14,
   "metadata": {},
   "outputs": [
    {
     "data": {
      "text/plain": [
       "146.86"
      ]
     },
     "execution_count": 14,
     "metadata": {},
     "output_type": "execute_result"
    }
   ],
   "source": [
    "df['MC_EUR_Billion'][4]"
   ]
  }
 ],
 "metadata": {
  "kernelspec": {
   "display_name": "Python 3",
   "language": "python",
   "name": "python3"
  },
  "language_info": {
   "codemirror_mode": {
    "name": "ipython",
    "version": 3
   },
   "file_extension": ".py",
   "mimetype": "text/x-python",
   "name": "python",
   "nbconvert_exporter": "python",
   "pygments_lexer": "ipython3",
   "version": "3.12.6"
  }
 },
 "nbformat": 4,
 "nbformat_minor": 2
}
